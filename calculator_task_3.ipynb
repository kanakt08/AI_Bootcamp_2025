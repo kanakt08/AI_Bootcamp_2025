{
  "nbformat": 4,
  "nbformat_minor": 0,
  "metadata": {
    "colab": {
      "provenance": []
    },
    "kernelspec": {
      "name": "python3",
      "display_name": "Python 3"
    },
    "language_info": {
      "name": "python"
    }
  },
  "cells": [
    {
      "cell_type": "code",
      "execution_count": 1,
      "metadata": {
        "colab": {
          "base_uri": "https://localhost:8080/"
        },
        "id": "zUp41LYgwks7",
        "outputId": "61177182-f3c2-438d-d0e6-d6ac28562f61"
      },
      "outputs": [
        {
          "output_type": "stream",
          "name": "stdout",
          "text": [
            "Basic Calculator\n",
            "Enter first number: 45\n",
            "Enter second number: 7\n",
            "Select operation: +  -  *  /\n",
            "Enter operator: +\n",
            "Result: 52.0\n"
          ]
        }
      ],
      "source": [
        "# Function to add two numbers\n",
        "def add(a, b):\n",
        "    return a + b\n",
        "\n",
        "# Function to subtract two numbers\n",
        "def subtract(a, b):\n",
        "    return a - b\n",
        "\n",
        "# Function to multiply two numbers\n",
        "def multiply(a, b):\n",
        "    return a * b\n",
        "\n",
        "# Function to divide two numbers\n",
        "def divide(a, b):\n",
        "    if b == 0:\n",
        "        return \"Error: Division by zero!\"\n",
        "    return a / b\n",
        "\n",
        "# Main program\n",
        "print(\"Basic Calculator\")\n",
        "\n",
        "num1 = float(input(\"Enter first number: \"))\n",
        "num2 = float(input(\"Enter second number: \"))\n",
        "\n",
        "print(\"Select operation: +  -  *  /\")\n",
        "choice = input(\"Enter operator: \")\n",
        "\n",
        "if choice in ['+', '-', '*', '/']:\n",
        "    if choice == '+':\n",
        "        print(\"Result:\", add(num1, num2))\n",
        "    elif choice == '-':\n",
        "        print(\"Result:\", subtract(num1, num2))\n",
        "    elif choice == '*':\n",
        "        print(\"Result:\", multiply(num1, num2))\n",
        "    elif choice == '/':\n",
        "        print(\"Result:\", divide(num1, num2))\n",
        "else:\n",
        "    print(\"Invalid operation! Please enter one of +, -, *, /.\")"
      ]
    }
  ]
}