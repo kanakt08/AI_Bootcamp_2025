{
  "nbformat": 4,
  "nbformat_minor": 0,
  "metadata": {
    "colab": {
      "provenance": []
    },
    "kernelspec": {
      "name": "python3",
      "display_name": "Python 3"
    },
    "language_info": {
      "name": "python"
    }
  },
  "cells": [
    {
      "cell_type": "code",
      "source": [
        "print(\"Name : Kanak Tayal\")"
      ],
      "metadata": {
        "colab": {
          "base_uri": "https://localhost:8080/"
        },
        "id": "WLZEcmU-eA9n",
        "outputId": "d49b3101-c14b-4699-bfe0-4dec4873db3f"
      },
      "execution_count": 4,
      "outputs": [
        {
          "output_type": "stream",
          "name": "stdout",
          "text": [
            "Name : Kanak Tayal\n"
          ]
        }
      ]
    },
    {
      "cell_type": "code",
      "execution_count": 3,
      "metadata": {
        "colab": {
          "base_uri": "https://localhost:8080/"
        },
        "id": "ATCN1ZpzcqUp",
        "outputId": "1a89fb83-2f00-4308-fd05-0e432b6788a6"
      },
      "outputs": [
        {
          "output_type": "stream",
          "name": "stdout",
          "text": [
            "Hello World!\n"
          ]
        }
      ],
      "source": [
        "print(\"Hello World!\") # print hello world"
      ]
    },
    {
      "cell_type": "code",
      "source": [
        "age = 24 #variable that store the value\n",
        "name = \"kanak\" # variable that storing the text\n",
        "print(age)  # print the value of age\n",
        "print(name)  # print the value of name\n",
        "print(age,name) # print the value of age and name in the same line"
      ],
      "metadata": {
        "colab": {
          "base_uri": "https://localhost:8080/"
        },
        "id": "0XqZyIndiyOl",
        "outputId": "e607be58-ff8b-48c0-cbf4-79df7d5604bf"
      },
      "execution_count": 11,
      "outputs": [
        {
          "output_type": "stream",
          "name": "stdout",
          "text": [
            "24\n",
            "kanak\n",
            "24 kanak\n"
          ]
        }
      ]
    }
  ]
}